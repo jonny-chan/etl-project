{
 "cells": [
  {
   "cell_type": "code",
   "execution_count": 1,
   "metadata": {},
   "outputs": [],
   "source": [
    "import pandas as pd \n",
    "import numpy as np\n",
    "from sqlalchemy import create_engine"
   ]
  },
  {
   "cell_type": "code",
   "execution_count": null,
   "metadata": {},
   "outputs": [],
   "source": [
    "##For the ETL project, it's a given you're submitting the code. Along with submitting this code, we've given you two options to tell the story that goes along with it: \n",
    "\n",
    "#1) A 2 to 3 minute mini-talk (with no visual aids), or\n",
    "#2) A one-page written report. \n",
    "\n",
    "#In either case, we're looking for the following in your story-telling:\n",
    "#- An outline of the methodology\n",
    "#- A rundown of the three aspects of ETL\n",
    "#- Coherence, confidence, and personal style in your communication\n"
   ]
  },
  {
   "cell_type": "code",
   "execution_count": null,
   "metadata": {},
   "outputs": [],
   "source": [
    "#showing to make sure documentation is correct when using\n",
    "pd.__version__"
   ]
  },
  {
   "cell_type": "code",
   "execution_count": null,
   "metadata": {},
   "outputs": [],
   "source": [
    "pd.show_versions()"
   ]
  },
  {
   "cell_type": "code",
   "execution_count": 2,
   "metadata": {},
   "outputs": [
    {
     "data": {
      "text/html": [
       "<div>\n",
       "<style scoped>\n",
       "    .dataframe tbody tr th:only-of-type {\n",
       "        vertical-align: middle;\n",
       "    }\n",
       "\n",
       "    .dataframe tbody tr th {\n",
       "        vertical-align: top;\n",
       "    }\n",
       "\n",
       "    .dataframe thead th {\n",
       "        text-align: right;\n",
       "    }\n",
       "</style>\n",
       "<table border=\"1\" class=\"dataframe\">\n",
       "  <thead>\n",
       "    <tr style=\"text-align: right;\">\n",
       "      <th></th>\n",
       "      <th>Unnamed: 0</th>\n",
       "      <th>player_name</th>\n",
       "      <th>team_abbreviation</th>\n",
       "      <th>age</th>\n",
       "      <th>player_height</th>\n",
       "      <th>player_weight</th>\n",
       "      <th>college</th>\n",
       "      <th>country</th>\n",
       "      <th>draft_year</th>\n",
       "      <th>draft_round</th>\n",
       "      <th>...</th>\n",
       "      <th>pts</th>\n",
       "      <th>reb</th>\n",
       "      <th>ast</th>\n",
       "      <th>net_rating</th>\n",
       "      <th>oreb_pct</th>\n",
       "      <th>dreb_pct</th>\n",
       "      <th>usg_pct</th>\n",
       "      <th>ts_pct</th>\n",
       "      <th>ast_pct</th>\n",
       "      <th>season</th>\n",
       "    </tr>\n",
       "  </thead>\n",
       "  <tbody>\n",
       "    <tr>\n",
       "      <th>0</th>\n",
       "      <td>0</td>\n",
       "      <td>Chris Robinson</td>\n",
       "      <td>VAN</td>\n",
       "      <td>23</td>\n",
       "      <td>195.58</td>\n",
       "      <td>90.71840</td>\n",
       "      <td>Western Kentucky</td>\n",
       "      <td>USA</td>\n",
       "      <td>1996</td>\n",
       "      <td>2</td>\n",
       "      <td>...</td>\n",
       "      <td>4.6</td>\n",
       "      <td>1.7</td>\n",
       "      <td>1.6</td>\n",
       "      <td>-11.4</td>\n",
       "      <td>0.039</td>\n",
       "      <td>0.088</td>\n",
       "      <td>0.155</td>\n",
       "      <td>0.486</td>\n",
       "      <td>0.156</td>\n",
       "      <td>1996-97</td>\n",
       "    </tr>\n",
       "    <tr>\n",
       "      <th>1</th>\n",
       "      <td>1</td>\n",
       "      <td>Matt Fish</td>\n",
       "      <td>MIA</td>\n",
       "      <td>27</td>\n",
       "      <td>210.82</td>\n",
       "      <td>106.59412</td>\n",
       "      <td>North Carolina-Wilmington</td>\n",
       "      <td>USA</td>\n",
       "      <td>1992</td>\n",
       "      <td>2</td>\n",
       "      <td>...</td>\n",
       "      <td>0.3</td>\n",
       "      <td>0.8</td>\n",
       "      <td>0.0</td>\n",
       "      <td>-15.1</td>\n",
       "      <td>0.143</td>\n",
       "      <td>0.267</td>\n",
       "      <td>0.265</td>\n",
       "      <td>0.333</td>\n",
       "      <td>0.000</td>\n",
       "      <td>1996-97</td>\n",
       "    </tr>\n",
       "    <tr>\n",
       "      <th>2</th>\n",
       "      <td>2</td>\n",
       "      <td>Matt Bullard</td>\n",
       "      <td>HOU</td>\n",
       "      <td>30</td>\n",
       "      <td>208.28</td>\n",
       "      <td>106.59412</td>\n",
       "      <td>Iowa</td>\n",
       "      <td>USA</td>\n",
       "      <td>Undrafted</td>\n",
       "      <td>Undrafted</td>\n",
       "      <td>...</td>\n",
       "      <td>4.5</td>\n",
       "      <td>1.6</td>\n",
       "      <td>0.9</td>\n",
       "      <td>0.9</td>\n",
       "      <td>0.016</td>\n",
       "      <td>0.115</td>\n",
       "      <td>0.151</td>\n",
       "      <td>0.535</td>\n",
       "      <td>0.099</td>\n",
       "      <td>1996-97</td>\n",
       "    </tr>\n",
       "    <tr>\n",
       "      <th>3</th>\n",
       "      <td>3</td>\n",
       "      <td>Marty Conlon</td>\n",
       "      <td>BOS</td>\n",
       "      <td>29</td>\n",
       "      <td>210.82</td>\n",
       "      <td>111.13004</td>\n",
       "      <td>Providence</td>\n",
       "      <td>USA</td>\n",
       "      <td>Undrafted</td>\n",
       "      <td>Undrafted</td>\n",
       "      <td>...</td>\n",
       "      <td>7.8</td>\n",
       "      <td>4.4</td>\n",
       "      <td>1.4</td>\n",
       "      <td>-9.0</td>\n",
       "      <td>0.083</td>\n",
       "      <td>0.152</td>\n",
       "      <td>0.167</td>\n",
       "      <td>0.542</td>\n",
       "      <td>0.101</td>\n",
       "      <td>1996-97</td>\n",
       "    </tr>\n",
       "    <tr>\n",
       "      <th>4</th>\n",
       "      <td>4</td>\n",
       "      <td>Martin Muursepp</td>\n",
       "      <td>DAL</td>\n",
       "      <td>22</td>\n",
       "      <td>205.74</td>\n",
       "      <td>106.59412</td>\n",
       "      <td>None</td>\n",
       "      <td>USA</td>\n",
       "      <td>1996</td>\n",
       "      <td>1</td>\n",
       "      <td>...</td>\n",
       "      <td>3.7</td>\n",
       "      <td>1.6</td>\n",
       "      <td>0.5</td>\n",
       "      <td>-14.5</td>\n",
       "      <td>0.109</td>\n",
       "      <td>0.118</td>\n",
       "      <td>0.233</td>\n",
       "      <td>0.482</td>\n",
       "      <td>0.114</td>\n",
       "      <td>1996-97</td>\n",
       "    </tr>\n",
       "  </tbody>\n",
       "</table>\n",
       "<p>5 rows × 22 columns</p>\n",
       "</div>"
      ],
      "text/plain": [
       "   Unnamed: 0      player_name team_abbreviation  age  player_height  \\\n",
       "0           0   Chris Robinson               VAN   23         195.58   \n",
       "1           1        Matt Fish               MIA   27         210.82   \n",
       "2           2     Matt Bullard               HOU   30         208.28   \n",
       "3           3     Marty Conlon               BOS   29         210.82   \n",
       "4           4  Martin Muursepp               DAL   22         205.74   \n",
       "\n",
       "   player_weight                    college country draft_year draft_round  \\\n",
       "0       90.71840           Western Kentucky     USA       1996           2   \n",
       "1      106.59412  North Carolina-Wilmington     USA       1992           2   \n",
       "2      106.59412                       Iowa     USA  Undrafted   Undrafted   \n",
       "3      111.13004                 Providence     USA  Undrafted   Undrafted   \n",
       "4      106.59412                       None     USA       1996           1   \n",
       "\n",
       "   ...  pts  reb  ast  net_rating  oreb_pct  dreb_pct  usg_pct  ts_pct  \\\n",
       "0  ...  4.6  1.7  1.6       -11.4     0.039     0.088    0.155   0.486   \n",
       "1  ...  0.3  0.8  0.0       -15.1     0.143     0.267    0.265   0.333   \n",
       "2  ...  4.5  1.6  0.9         0.9     0.016     0.115    0.151   0.535   \n",
       "3  ...  7.8  4.4  1.4        -9.0     0.083     0.152    0.167   0.542   \n",
       "4  ...  3.7  1.6  0.5       -14.5     0.109     0.118    0.233   0.482   \n",
       "\n",
       "   ast_pct   season  \n",
       "0    0.156  1996-97  \n",
       "1    0.000  1996-97  \n",
       "2    0.099  1996-97  \n",
       "3    0.101  1996-97  \n",
       "4    0.114  1996-97  \n",
       "\n",
       "[5 rows x 22 columns]"
      ]
     },
     "execution_count": 2,
     "metadata": {},
     "output_type": "execute_result"
    }
   ],
   "source": [
    "#Extract: your original data sources and how the data was formatted (CSV, JSON, pgAdmin 4, etc).\n",
    "#load the csv\n",
    "roster = pd.read_csv('Resources/1996_2016seasons.csv')\n",
    "roster.head()"
   ]
  },
  {
   "cell_type": "code",
   "execution_count": 3,
   "metadata": {},
   "outputs": [
    {
     "data": {
      "text/plain": [
       "(9561, 22)"
      ]
     },
     "execution_count": 3,
     "metadata": {},
     "output_type": "execute_result"
    }
   ],
   "source": [
    "#showing how many columns and rows\n",
    "roster.shape"
   ]
  },
  {
   "cell_type": "code",
   "execution_count": 4,
   "metadata": {},
   "outputs": [
    {
     "data": {
      "text/plain": [
       "Index(['Unnamed: 0', 'player_name', 'team_abbreviation', 'age',\n",
       "       'player_height', 'player_weight', 'college', 'country', 'draft_year',\n",
       "       'draft_round', 'draft_number', 'gp', 'pts', 'reb', 'ast', 'net_rating',\n",
       "       'oreb_pct', 'dreb_pct', 'usg_pct', 'ts_pct', 'ast_pct', 'season'],\n",
       "      dtype='object')"
      ]
     },
     "execution_count": 4,
     "metadata": {},
     "output_type": "execute_result"
    }
   ],
   "source": [
    "roster.columns"
   ]
  },
  {
   "cell_type": "code",
   "execution_count": 5,
   "metadata": {},
   "outputs": [],
   "source": [
    "#deleting columns we are not adding to database\n",
    "roster = roster.drop(['net_rating',\n",
    "       'oreb_pct', 'dreb_pct', 'usg_pct', 'ts_pct', 'ast_pct'],axis=1)"
   ]
  },
  {
   "cell_type": "code",
   "execution_count": 6,
   "metadata": {},
   "outputs": [],
   "source": [
    "roster = roster.rename({'Unnamed: 0':'PlayerID','player_name':'Player Name', \n",
    "                        'team_abbreviation':'Team', 'age':'Age',\n",
    "                        'player_height':'Player Height', 'player_weight':'Player Weight',\n",
    "                        'college':'College', 'country':\"Country\", \n",
    "                        'draft_year':'Draft Year', 'draft_round':'Draft Round',\n",
    "                        'draft_number':'Draft Number', 'gp':'Games Played',\n",
    "                        'pts':'Points', 'reb':'Rebounds', 'ast':'Assists', \n",
    "                        'season':'Year'}, axis='columns')"
   ]
  },
  {
   "cell_type": "code",
   "execution_count": 7,
   "metadata": {},
   "outputs": [
    {
     "data": {
      "text/plain": [
       "Index(['PlayerID', 'Player Name', 'Team', 'Age', 'Player Height',\n",
       "       'Player Weight', 'College', 'Country', 'Draft Year', 'Draft Round',\n",
       "       'Draft Number', 'Games Played', 'Points', 'Rebounds', 'Assists',\n",
       "       'Year'],\n",
       "      dtype='object')"
      ]
     },
     "execution_count": 7,
     "metadata": {},
     "output_type": "execute_result"
    }
   ],
   "source": [
    "roster.columns"
   ]
  },
  {
   "cell_type": "code",
   "execution_count": null,
   "metadata": {},
   "outputs": [],
   "source": []
  },
  {
   "cell_type": "code",
   "execution_count": 34,
   "metadata": {},
   "outputs": [
    {
     "data": {
      "text/html": [
       "<div>\n",
       "<style scoped>\n",
       "    .dataframe tbody tr th:only-of-type {\n",
       "        vertical-align: middle;\n",
       "    }\n",
       "\n",
       "    .dataframe tbody tr th {\n",
       "        vertical-align: top;\n",
       "    }\n",
       "\n",
       "    .dataframe thead th {\n",
       "        text-align: right;\n",
       "    }\n",
       "</style>\n",
       "<table border=\"1\" class=\"dataframe\">\n",
       "  <thead>\n",
       "    <tr style=\"text-align: right;\">\n",
       "      <th></th>\n",
       "      <th>Unnamed: 0</th>\n",
       "      <th>Year</th>\n",
       "      <th>Player</th>\n",
       "      <th>Pos</th>\n",
       "      <th>Age</th>\n",
       "      <th>Tm</th>\n",
       "      <th>G</th>\n",
       "      <th>GS</th>\n",
       "      <th>MP</th>\n",
       "      <th>PER</th>\n",
       "      <th>...</th>\n",
       "      <th>FT%</th>\n",
       "      <th>ORB</th>\n",
       "      <th>DRB</th>\n",
       "      <th>TRB</th>\n",
       "      <th>AST</th>\n",
       "      <th>STL</th>\n",
       "      <th>BLK</th>\n",
       "      <th>TOV</th>\n",
       "      <th>PF</th>\n",
       "      <th>PTS</th>\n",
       "    </tr>\n",
       "  </thead>\n",
       "  <tbody>\n",
       "    <tr>\n",
       "      <th>24686</th>\n",
       "      <td>24686</td>\n",
       "      <td>2017.0</td>\n",
       "      <td>Cody Zeller</td>\n",
       "      <td>PF</td>\n",
       "      <td>24.0</td>\n",
       "      <td>CHO</td>\n",
       "      <td>62.0</td>\n",
       "      <td>58.0</td>\n",
       "      <td>1725.0</td>\n",
       "      <td>16.7</td>\n",
       "      <td>...</td>\n",
       "      <td>0.679</td>\n",
       "      <td>135.0</td>\n",
       "      <td>270.0</td>\n",
       "      <td>405.0</td>\n",
       "      <td>99.0</td>\n",
       "      <td>62.0</td>\n",
       "      <td>58.0</td>\n",
       "      <td>65.0</td>\n",
       "      <td>189.0</td>\n",
       "      <td>639.0</td>\n",
       "    </tr>\n",
       "    <tr>\n",
       "      <th>24687</th>\n",
       "      <td>24687</td>\n",
       "      <td>2017.0</td>\n",
       "      <td>Tyler Zeller</td>\n",
       "      <td>C</td>\n",
       "      <td>27.0</td>\n",
       "      <td>BOS</td>\n",
       "      <td>51.0</td>\n",
       "      <td>5.0</td>\n",
       "      <td>525.0</td>\n",
       "      <td>13.0</td>\n",
       "      <td>...</td>\n",
       "      <td>0.564</td>\n",
       "      <td>43.0</td>\n",
       "      <td>81.0</td>\n",
       "      <td>124.0</td>\n",
       "      <td>42.0</td>\n",
       "      <td>7.0</td>\n",
       "      <td>21.0</td>\n",
       "      <td>20.0</td>\n",
       "      <td>61.0</td>\n",
       "      <td>178.0</td>\n",
       "    </tr>\n",
       "    <tr>\n",
       "      <th>24688</th>\n",
       "      <td>24688</td>\n",
       "      <td>2017.0</td>\n",
       "      <td>Stephen Zimmerman</td>\n",
       "      <td>C</td>\n",
       "      <td>20.0</td>\n",
       "      <td>ORL</td>\n",
       "      <td>19.0</td>\n",
       "      <td>0.0</td>\n",
       "      <td>108.0</td>\n",
       "      <td>7.3</td>\n",
       "      <td>...</td>\n",
       "      <td>0.600</td>\n",
       "      <td>11.0</td>\n",
       "      <td>24.0</td>\n",
       "      <td>35.0</td>\n",
       "      <td>4.0</td>\n",
       "      <td>2.0</td>\n",
       "      <td>5.0</td>\n",
       "      <td>3.0</td>\n",
       "      <td>17.0</td>\n",
       "      <td>23.0</td>\n",
       "    </tr>\n",
       "    <tr>\n",
       "      <th>24689</th>\n",
       "      <td>24689</td>\n",
       "      <td>2017.0</td>\n",
       "      <td>Paul Zipser</td>\n",
       "      <td>SF</td>\n",
       "      <td>22.0</td>\n",
       "      <td>CHI</td>\n",
       "      <td>44.0</td>\n",
       "      <td>18.0</td>\n",
       "      <td>843.0</td>\n",
       "      <td>6.9</td>\n",
       "      <td>...</td>\n",
       "      <td>0.775</td>\n",
       "      <td>15.0</td>\n",
       "      <td>110.0</td>\n",
       "      <td>125.0</td>\n",
       "      <td>36.0</td>\n",
       "      <td>15.0</td>\n",
       "      <td>16.0</td>\n",
       "      <td>40.0</td>\n",
       "      <td>78.0</td>\n",
       "      <td>240.0</td>\n",
       "    </tr>\n",
       "    <tr>\n",
       "      <th>24690</th>\n",
       "      <td>24690</td>\n",
       "      <td>2017.0</td>\n",
       "      <td>Ivica Zubac</td>\n",
       "      <td>C</td>\n",
       "      <td>19.0</td>\n",
       "      <td>LAL</td>\n",
       "      <td>38.0</td>\n",
       "      <td>11.0</td>\n",
       "      <td>609.0</td>\n",
       "      <td>17.0</td>\n",
       "      <td>...</td>\n",
       "      <td>0.653</td>\n",
       "      <td>41.0</td>\n",
       "      <td>118.0</td>\n",
       "      <td>159.0</td>\n",
       "      <td>30.0</td>\n",
       "      <td>14.0</td>\n",
       "      <td>33.0</td>\n",
       "      <td>30.0</td>\n",
       "      <td>66.0</td>\n",
       "      <td>284.0</td>\n",
       "    </tr>\n",
       "  </tbody>\n",
       "</table>\n",
       "<p>5 rows × 53 columns</p>\n",
       "</div>"
      ],
      "text/plain": [
       "       Unnamed: 0    Year             Player Pos   Age   Tm     G    GS  \\\n",
       "24686       24686  2017.0        Cody Zeller  PF  24.0  CHO  62.0  58.0   \n",
       "24687       24687  2017.0       Tyler Zeller   C  27.0  BOS  51.0   5.0   \n",
       "24688       24688  2017.0  Stephen Zimmerman   C  20.0  ORL  19.0   0.0   \n",
       "24689       24689  2017.0        Paul Zipser  SF  22.0  CHI  44.0  18.0   \n",
       "24690       24690  2017.0        Ivica Zubac   C  19.0  LAL  38.0  11.0   \n",
       "\n",
       "           MP   PER  ...    FT%    ORB    DRB    TRB   AST   STL   BLK   TOV  \\\n",
       "24686  1725.0  16.7  ...  0.679  135.0  270.0  405.0  99.0  62.0  58.0  65.0   \n",
       "24687   525.0  13.0  ...  0.564   43.0   81.0  124.0  42.0   7.0  21.0  20.0   \n",
       "24688   108.0   7.3  ...  0.600   11.0   24.0   35.0   4.0   2.0   5.0   3.0   \n",
       "24689   843.0   6.9  ...  0.775   15.0  110.0  125.0  36.0  15.0  16.0  40.0   \n",
       "24690   609.0  17.0  ...  0.653   41.0  118.0  159.0  30.0  14.0  33.0  30.0   \n",
       "\n",
       "          PF    PTS  \n",
       "24686  189.0  639.0  \n",
       "24687   61.0  178.0  \n",
       "24688   17.0   23.0  \n",
       "24689   78.0  240.0  \n",
       "24690   66.0  284.0  \n",
       "\n",
       "[5 rows x 53 columns]"
      ]
     },
     "execution_count": 34,
     "metadata": {},
     "output_type": "execute_result"
    }
   ],
   "source": [
    "#load the csv\n",
    "box_score = pd.read_csv('Resources/Seasons_Stats.csv')\n",
    "box_score.tail(5)"
   ]
  },
  {
   "cell_type": "code",
   "execution_count": 35,
   "metadata": {},
   "outputs": [
    {
     "data": {
      "text/plain": [
       "Index(['Unnamed: 0', 'Year', 'Player', 'Pos', 'Age', 'Tm', 'G', 'GS', 'MP',\n",
       "       'PER', 'TS%', '3PAr', 'FTr', 'ORB%', 'DRB%', 'TRB%', 'AST%', 'STL%',\n",
       "       'BLK%', 'TOV%', 'USG%', 'blanl', 'OWS', 'DWS', 'WS', 'WS/48', 'blank2',\n",
       "       'OBPM', 'DBPM', 'BPM', 'VORP', 'FG', 'FGA', 'FG%', '3P', '3PA', '3P%',\n",
       "       '2P', '2PA', '2P%', 'eFG%', 'FT', 'FTA', 'FT%', 'ORB', 'DRB', 'TRB',\n",
       "       'AST', 'STL', 'BLK', 'TOV', 'PF', 'PTS'],\n",
       "      dtype='object')"
      ]
     },
     "execution_count": 35,
     "metadata": {},
     "output_type": "execute_result"
    }
   ],
   "source": [
    "box_score.columns"
   ]
  },
  {
   "cell_type": "code",
   "execution_count": 36,
   "metadata": {},
   "outputs": [],
   "source": [
    "box_score = box_score.drop(['Unnamed: 0', 'Age', 'Tm','G', 'GS', 'MP', 'PER', 'TS%', '3PAr', 'FTr', 'ORB%', 'DRB%', 'TRB%', 'AST%', 'STL%',\n",
    "       'BLK%', 'TOV%', 'USG%', 'blanl', 'OWS', 'DWS', 'WS', 'WS/48', 'blank2',\n",
    "       'OBPM', 'DBPM', 'BPM', 'VORP'],axis=1)"
   ]
  },
  {
   "cell_type": "code",
   "execution_count": 37,
   "metadata": {},
   "outputs": [
    {
     "data": {
      "text/plain": [
       "Index(['Year', 'Player', 'Pos', 'FG', 'FGA', 'FG%', '3P', '3PA', '3P%', '2P',\n",
       "       '2PA', '2P%', 'eFG%', 'FT', 'FTA', 'FT%', 'ORB', 'DRB', 'TRB', 'AST',\n",
       "       'STL', 'BLK', 'TOV', 'PF', 'PTS'],\n",
       "      dtype='object')"
      ]
     },
     "execution_count": 37,
     "metadata": {},
     "output_type": "execute_result"
    }
   ],
   "source": [
    "box_score.columns"
   ]
  },
  {
   "cell_type": "code",
   "execution_count": 10,
   "metadata": {},
   "outputs": [
    {
     "data": {
      "text/plain": [
       "array([1950.,   nan, 1951., 1952., 1953., 1954., 1955., 1956., 1957.,\n",
       "       1958., 1959., 1960., 1961., 1962., 1963., 1964., 1965., 1966.,\n",
       "       1967., 1968., 1969., 1970., 1971., 1972., 1973., 1974., 1975.,\n",
       "       1976., 1977., 1978., 1979., 1980., 1981., 1982., 1983., 1984.,\n",
       "       1985., 1986., 1987., 1988., 1989., 1990., 1991., 1992., 1993.,\n",
       "       1994., 1995., 1996., 1997., 1998., 1999., 2000., 2001., 2002.,\n",
       "       2003., 2004., 2005., 2006., 2007., 2008., 2009., 2010., 2011.,\n",
       "       2012., 2013., 2014., 2015., 2016., 2017.])"
      ]
     },
     "execution_count": 10,
     "metadata": {},
     "output_type": "execute_result"
    }
   ],
   "source": [
    "box_score.Year.unique()"
   ]
  },
  {
   "cell_type": "code",
   "execution_count": 46,
   "metadata": {},
   "outputs": [],
   "source": [
    "box_score.dropna(axis=0, how='any', thresh=None, subset=None, inplace=True)"
   ]
  },
  {
   "cell_type": "code",
   "execution_count": 61,
   "metadata": {},
   "outputs": [],
   "source": [
    "box_score = box_score[box_score.Year != 1950.]\n",
    "box_score = box_score[box_score.Year != 1980.]\n",
    "box_score = box_score[box_score.Year != 1981.]\n",
    "box_score = box_score[box_score.Year != 1982.]\n",
    "box_score = box_score[box_score.Year != 1983.]\n",
    "box_score = box_score[box_score.Year != 1984.]\n",
    "box_score = box_score[box_score.Year != 1985.]\n",
    "box_score = box_score[box_score.Year != 1986.]\n",
    "box_score = box_score[box_score.Year != 1987.]\n",
    "box_score = box_score[box_score.Year != 1988.]\n",
    "box_score = box_score[box_score.Year != 1989.]\n",
    "box_score = box_score[box_score.Year != 1990.]\n",
    "box_score = box_score[box_score.Year != 1991.]\n",
    "box_score = box_score[box_score.Year != 1992.]\n",
    "box_score = box_score[box_score.Year != 1993.]\n",
    "box_score = box_score[box_score.Year != 1994.]\n",
    "box_score = box_score[box_score.Year != 1995.]"
   ]
  },
  {
   "cell_type": "code",
   "execution_count": 65,
   "metadata": {},
   "outputs": [
    {
     "ename": "NameError",
     "evalue": "name 'left' is not defined",
     "output_type": "error",
     "traceback": [
      "\u001b[0;31m---------------------------------------------------------------------------\u001b[0m",
      "\u001b[0;31mNameError\u001b[0m                                 Traceback (most recent call last)",
      "\u001b[0;32m<ipython-input-65-c5e51cdfc71c>\u001b[0m in \u001b[0;36m<module>\u001b[0;34m\u001b[0m\n\u001b[1;32m      4\u001b[0m                       \u001b[0mleft_on\u001b[0m\u001b[0;34m=\u001b[0m\u001b[0;34m'Player Name'\u001b[0m\u001b[0;34m,\u001b[0m\u001b[0;34m\u001b[0m\u001b[0;34m\u001b[0m\u001b[0m\n\u001b[1;32m      5\u001b[0m                       \u001b[0mright_on\u001b[0m\u001b[0;34m=\u001b[0m\u001b[0;34m'Player Name'\u001b[0m\u001b[0;34m,\u001b[0m\u001b[0;34m\u001b[0m\u001b[0;34m\u001b[0m\u001b[0m\n\u001b[0;32m----> 6\u001b[0;31m                       how = left)\n\u001b[0m",
      "\u001b[0;31mNameError\u001b[0m: name 'left' is not defined"
     ]
    }
   ],
   "source": [
    "final_data = pd.merge(roster, box_score[['Player', 'Pos', 'FG', 'FGA', 'FG%', '3P', '3PA', '3P%', '2P',\n",
    "       '2PA', '2P%', 'eFG%', 'FT', 'FTA', 'FT%', 'ORB', 'DRB', 'TRB', 'AST',\n",
    "       'STL', 'BLK', 'TOV', 'PF', 'PTS']], \n",
    "                      left_on='Player Name',\n",
    "                      right_on='Player Name', how = left)"
   ]
  },
  {
   "cell_type": "code",
   "execution_count": null,
   "metadata": {},
   "outputs": [],
   "source": [
    "final_data.to_csv(\"final_data.csv\", index=False, encoding='utf8')"
   ]
  },
  {
   "cell_type": "code",
   "execution_count": null,
   "metadata": {},
   "outputs": [],
   "source": []
  },
  {
   "cell_type": "code",
   "execution_count": null,
   "metadata": {},
   "outputs": [],
   "source": [
    "#Load: the final database, tables/collections, and why this was chosen"
   ]
  },
  {
   "cell_type": "code",
   "execution_count": null,
   "metadata": {},
   "outputs": [],
   "source": [
    "rds_connection_string = \"<insert user name>:<insert password>@localhost:5432/customer_db\"\n",
    "engine = create_engine(f'postgresql://{rds_connection_string}')"
   ]
  },
  {
   "cell_type": "code",
   "execution_count": null,
   "metadata": {},
   "outputs": [],
   "source": [
    "engine.table_names()"
   ]
  },
  {
   "cell_type": "code",
   "execution_count": null,
   "metadata": {},
   "outputs": [],
   "source": [
    "new_customer_data_df.to_sql(name='final_data.csv', con=engine, if_exists='append', index=False)"
   ]
  },
  {
   "cell_type": "code",
   "execution_count": null,
   "metadata": {},
   "outputs": [],
   "source": [
    "pd.read_sql_query('select * from Players', con=engine).head()"
   ]
  },
  {
   "cell_type": "code",
   "execution_count": null,
   "metadata": {},
   "outputs": [],
   "source": []
  },
  {
   "cell_type": "code",
   "execution_count": null,
   "metadata": {},
   "outputs": [],
   "source": []
  }
 ],
 "metadata": {
  "kernelspec": {
   "display_name": "Python 3",
   "language": "python",
   "name": "python3"
  },
  "language_info": {
   "codemirror_mode": {
    "name": "ipython",
    "version": 3
   },
   "file_extension": ".py",
   "mimetype": "text/x-python",
   "name": "python",
   "nbconvert_exporter": "python",
   "pygments_lexer": "ipython3",
   "version": "3.7.3"
  }
 },
 "nbformat": 4,
 "nbformat_minor": 2
}
